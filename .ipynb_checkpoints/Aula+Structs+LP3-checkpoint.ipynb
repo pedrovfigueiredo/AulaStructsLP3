{
 "cells": [
  {
   "cell_type": "markdown",
   "metadata": {},
   "source": [
    "# *Structs* na linguagem C\n",
    "\n",
    "## Pedro Figueirêdo, Sandoval Veríssimo e Thiago Wesley\n"
   ]
  },
  {
   "cell_type": "markdown",
   "metadata": {},
   "source": [
    "### Roteiro da aula:\n",
    "1. Introdução\n",
    "1. Declaração\n",
    "1. Inicialização\n",
    "1. Acesso a membros\n",
    "1. Structs como argumento e retorno de funções\n",
    "    * *Structs* e *arrays*\n",
    "    * Manipulação de *structs* por registradores\n",
    "1. Ponteiros para struct\n",
    "    * Operador \"->\"\n",
    "1. Referências"
   ]
  },
  {
   "cell_type": "markdown",
   "metadata": {},
   "source": [
    "## Introdução\n",
    "\n",
    "<p><div style=\"text-align: justify\">*Structs* também conhecida como registro, é um bloco que armazena diversas informações, ou seja, permite o armazenamento de diferentes tipos de dados na mesma estrutura, diferentemente dos vetores e matrizes que trabalham apenas com elementos do mesmo tipo. Desta forma, ao declarar uma struct está se declarando um novo tipo de dado.</div></p>\n",
    "<p><div style=\"text-align: justify\">Como todos os tipos de dados primitivos têm tamanho definido, com *structs* não é diferente. Entretanto, o seu tamanho é definido pelos seus atributos. O tamanho de um tipo *struct* será a soma dos tamanhos de seus campos. Caso esse tamanho não seja ideal para a arquitetura do processador é feito, automaticamente, um *padding* (alocação de bytes não-signicativos) que serve para facilitar o trabalho de leitura de memória e colocação em registradores. Por isso, nem sempre uma *struct* tem tamanho igual à soma de seus atributos. Tal fatalidade é combatida pela diretiva de compilação *pragma*, que informa ao compilador que não é necessário realizar o *padding*.</div></p>\n",
    "<p><div style=\"text-align: justify\">A importância de se usar *struct* é pelo fato de as vezes o programador precisar trabalhar com elementos que possuem várias características, desta forma, usando esse recurso da linguagem C, permite a manipulação desses elementos de forma mais prática, eficiente e organizada.</div></p>\n"
   ]
  },
  {
   "cell_type": "markdown",
   "metadata": {},
   "source": [
    "## Declaração\n",
    "\n",
    "Para declarar-se uma *struct*, segue-se uma fórmula genérica:\n",
    "\n",
    "```C\n",
    "struct tag_name {\n",
    "    type member1;\n",
    "    type member2;\n",
    "    // Pode-se declarar quantos membros forem desejados\n",
    "}\n",
    "```\n",
    "\n",
    "Há também a possibilidade de usar a palavra reservada *typedef* a qual define um novo tipo, eliminando a necessidade do termo *struct* sempre que se deseja referenciar esse tipo.\n",
    "\n",
    "```C\n",
    "typedef struct{\n",
    "    type member1;\n",
    "    type member2;\n",
    "    // Pode-se declarar quantos membros forem desejados\n",
    "} tag_name;\n",
    "```\n",
    "\n",
    "Como um exemplo, pode-se ver, abaixo, a declaração da *struct* Pessoa, a qual será usada ao longo da aula para explicar futuros conceitos.\n",
    "```C\n",
    "typedef struct{\n",
    "    char* nome;\n",
    "    int idade;\n",
    "} Pessoa;\n",
    "```\n",
    "\n",
    "### <font color='red'>Alerta de Erro</font>\n",
    "C não permite que se use, como atributo, uma nova instância do mesmo tipo sendo declarado."
   ]
  },
  {
   "cell_type": "code",
   "execution_count": 45,
   "metadata": {},
   "outputs": [
    {
     "name": "stderr",
     "output_type": "stream",
     "text": [
      "/Users/PedroFigueiredo/anaconda/lib/python3.6/site-packages/jupyter_c_kerneltt1z6pti/0.c:4:19: error: field has incomplete type 'struct Pessoa'\n",
      "    struct Pessoa parent;\n",
      "                  ^\n",
      "/Users/PedroFigueiredo/anaconda/lib/python3.6/site-packages/jupyter_c_kerneltt1z6pti/0.c:4:12: note: forward declaration of 'struct Pessoa'\n",
      "    struct Pessoa parent;\n",
      "           ^\n",
      "1 error generated.\n",
      "[C kernel] GCC exited with code 1, the executable will not be executed"
     ]
    }
   ],
   "source": [
    "typedef struct{\n",
    "    char* nome;\n",
    "    int idade;\n",
    "    struct Pessoa parent;\n",
    "} Pessoa;\n",
    "\n",
    "int main(){ return 0;}"
   ]
  },
  {
   "cell_type": "markdown",
   "metadata": {},
   "source": [
    "Como resolver? Será visto no tópico sobre ponteiros para *struct*."
   ]
  },
  {
   "cell_type": "markdown",
   "metadata": {},
   "source": [
    "## Inicialização\n",
    "\n",
    "Utilizando o exemplo da *struct* Pessoa:\n",
    "\n",
    "```C\n",
    "typedef struct{\n",
    "    char* nome;\n",
    "    int idade;\n",
    "} Pessoa;\n",
    "```\n",
    "\n",
    "Há três formas de se inicializar uma *struct* em C:\n",
    "```C\n",
    "// Inicializar os primeiros dois membros em ordem disposta na *struct*:\n",
    "Pessoa p = {\"Pedro\", 19};\n",
    "    \n",
    "// Inicializar usando os identificadores das variáveis da *struct*:\n",
    "Pessoa s = {.idade = 20, .nome = \"Sandoval\"};\n",
    "    \n",
    "// Inicializar utilizando a cópia de atributos de outra instância\n",
    "Pessoa t = p;\n",
    "```\n",
    "\n",
    "OBS: Para as duas primeiras maneiras de inicialização, não é necessário informar todos os parâmetros. Os que forem omitidos serão iniciados com **zero**.\n",
    "\n",
    "Para a inicialização de um *array* de tipos de estruturas, basta aninhar as inicializações de cada elemento:\n",
    "```C\n",
    "Pessoa amigos[3] = {{\"Pedro\", 19},{.idade = 20, .nome = \"Sandoval\"}, t};\n",
    "```\n",
    "\n",
    "### <font color='red'>Alerta de Erro</font>\n",
    "Não se pode inicializar os atributos na declaração de uma *struct*."
   ]
  },
  {
   "cell_type": "code",
   "execution_count": 23,
   "metadata": {},
   "outputs": [
    {
     "name": "stderr",
     "output_type": "stream",
     "text": [
      "/Users/PedroFigueiredo/anaconda/lib/python3.6/site-packages/jupyter_c_kerneltt1z6pti/0.c:2:15: error: expected ';' at end of declaration list\n",
      "    char* nome = \"Pedro\";\n",
      "              ^\n",
      "              ;\n",
      "/Users/PedroFigueiredo/anaconda/lib/python3.6/site-packages/jupyter_c_kerneltt1z6pti/0.c:3:14: error: expected ';' at end of declaration list\n",
      "    int idade = 19;\n",
      "             ^\n",
      "             ;\n",
      "2 errors generated.\n",
      "[C kernel] GCC exited with code 1, the executable will not be executed"
     ]
    }
   ],
   "source": [
    "typedef struct{\n",
    "    char* nome = \"Pedro\";\n",
    "    int idade = 19;\n",
    "} Pessoa;\n",
    "\n",
    "int main(){ return 0;}"
   ]
  },
  {
   "cell_type": "markdown",
   "metadata": {},
   "source": [
    "## Acesso a membros\n",
    "\n",
    "O operador \"**.**\" é usado para fazer o acesso a atributos de uma *struct*."
   ]
  },
  {
   "cell_type": "code",
   "execution_count": 25,
   "metadata": {},
   "outputs": [
    {
     "name": "stdout",
     "output_type": "stream",
     "text": [
      "Idade de Thiago: 0\n",
      "Idade de Thiago: 23\n"
     ]
    }
   ],
   "source": [
    "#include <stdio.h>\n",
    "typedef struct{\n",
    "    char* nome;\n",
    "    int idade;\n",
    "} Pessoa;\n",
    "\n",
    "int main(){\n",
    "    // Inicializa-se apenas o primeiro atributo de Pessoa\n",
    "    Pessoa t = {\"Thiago\"};\n",
    "    \n",
    "    printf(\"Idade de %s: %d\\n\", t.nome, t.idade);\n",
    "    \n",
    "    // Altera-se o valor do campo idade de 0 para 23\n",
    "    t.idade = 23;\n",
    "    \n",
    "    printf(\"Idade de %s: %d\\n\", t.nome, t.idade);\n",
    "    \n",
    "    return 0;\n",
    "}"
   ]
  },
  {
   "cell_type": "markdown",
   "metadata": {},
   "source": [
    "## *Structs* como argumento e retorno de funções\n",
    "\n",
    "As *structs*, assim como os outros tipos primitivos de C, podem ser passadas e retornadas por valor, quando em uma função. \n",
    "\n",
    "### *Structs* e *arrays*\n",
    "<p><div style=\"text-align: justify\">Uma dúvida frequente é: **por que é possível passar como parâmetro e retornar uma *struct* por valor, mas não se pode fazer o mesmo com *arrays*?**. Isso acontece, pois um *array*, na verdade, é interpretado como um espaço de memória e não um tipo de dados. Para esse espaço de memória ser acessado, usa-se o endereço do seu primeiro elemento (que é representado pelo seu próprio identificador). Logo, quando se invoca uma função com um *array* como parâmetro, recebe-se apenas o endereço para seu primeiro elemento, e não o *array* em sua totalidade, o mesmo valendo para quando é retornado, o que implica que a função terá como parâmetro formal, ou tipo de retorno, um ponteiro para o tipo dos elementos do *array*. Já a *struct* é um tipo de dados como os primitivos e, assim, tem seus atributos copiados na passagem por parâmetro e no retorno.</div></p>\n",
    "\n",
    "<p><div style=\"text-align: justify\">**Já que uma *struct* pode ser passada como parâmetro e retornada por valor, como é feita a manipulação desse tipo de dados pelos registradores?**</div></p>\n",
    "\n",
    "### Manipulação de *structs* por registradores\n",
    "Uma *struct* pode ser passada como valor ou endereço. Para analisar o custo de cada uma das opções de passagem por parâmetro e retorno, foi feito um teste com o seguinte trecho de código:\n",
    "\n",
    "```C\n",
    "struct Pessoa{\n",
    "  int idade_;\n",
    "  double peso_;\n",
    "  double altura_;\n",
    "  int nIrmaos_;\n",
    "    \n",
    "};\n",
    "\n",
    "struct Pessoa f(struct Pessoa s){ \n",
    "  return s;\n",
    "}\n",
    "\n",
    "```\n",
    "\n",
    "Como pode-se ver, a *struct* *s* será passada por parâmetro para a função f() por valor. Para comparar a eficiência, gera-se o assembly correspondente:\n",
    "\n",
    "```Assembly\n",
    "   struct Pessoa f(struct Pessoa s){\n",
    "   0x0000000000400546 <+0>:    push   %rbp\n",
    "   0x0000000000400547 <+1>:    mov    %rsp,%rbp\n",
    "   0x000000000040054a <+4>:    mov    %rdi,-0x8(%rbp)\n",
    "\n",
    "   return s;\n",
    "   0x000000000040054e <+8>:     mov    -0x8(%rbp),%rax\n",
    "   0x0000000000400552 <+12>:    mov    0x10(%rbp),%rdx\n",
    "   0x0000000000400556 <+16>:    mov    %rdx,(%rax)\n",
    "   0x0000000000400559 <+19>:    mov    0x18(%rbp),%rdx\n",
    "   0x000000000040055d <+23>:    mov    %rdx,0x8(%rax)\n",
    "   0x0000000000400561 <+27>:    mov    0x20(%rbp),%rdx\n",
    "   0x0000000000400565 <+31>:    mov    %rdx,0x10(%rax)\n",
    "   0x0000000000400569 <+35>:    mov    0x28(%rbp),%rdx\n",
    "   0x000000000040056d <+39>:    mov    %rdx,0x18(%rax)\n",
    "\n",
    "   }\n",
    "   0x0000000000400571 <+43>:    mov    -0x8(%rbp),%rax\n",
    "   0x0000000000400575 <+47>:    pop    %rbp\n",
    "   0x0000000000400576 <+48>:    retq\n",
    "```\n",
    "\n",
    "Pôde-se ver que foram feitas muitas operações com os registradores de uso geral no momento do retorno da função f(). Isso ocorre devido às cópias por valor dos atributos para que fosse retornado à *main* um novo objeto *struct* Pessoa idêntico ao passado por parâmetro.\n",
    "\n",
    "Adaptou-se o código para passar o objeto *s* por endereço, como pode ser visto abaixo:\n",
    "\n",
    "```C\n",
    "struct Pessoa* f(struct Pessoa* s){\n",
    "  return s;\n",
    "}\n",
    "```\n",
    "\n",
    "Então, gerou-se o assembly correspondente:\n",
    "\n",
    "```Assembly\n",
    "   struct Pessoa* f(struct Pessoa* s){\n",
    "   0x0000000000400546 <+0>:    push   %rbp\n",
    "   0x0000000000400547 <+1>:    mov    %rsp,%rbp\n",
    "   0x000000000040054a <+4>:    mov    %rdi,-0x8(%rbp)\n",
    "   \n",
    "   return s;\n",
    "   0x000000000040054e <+8>:    mov    -0x8(%rbp),%rax\n",
    "\n",
    "   }\n",
    "   0x0000000000400552 <+12>:    pop    %rbp\n",
    "   0x0000000000400553 <+13>:    retq\n",
    "```\n",
    "\n",
    "Vê-se que é feita apenas uma instrução *mov*, a qual transfere o valor do ponteiro que armazena o endereço da *struct* *s* para o registrador eax, retornando-o à *main*.\n",
    "\n",
    "Portanto, ao examinar os dois códigos assembly, conclui-se que apesar de uma struct poder ser passada por valor, é muito mais eficiente passá-la por endereço, o qual é armazenado em um ponteiro para *struct*, que será explicado a seguir.\n"
   ]
  },
  {
   "cell_type": "markdown",
   "metadata": {},
   "source": [
    "## Ponteiros para *struct*\n",
    "\n",
    "<p><div style=\"text-align: justify\">Utilizar ponteiros para armazenar endereços de *structs* é um artifício muito útil na linguagem C, já que é possível referenciar todos os atributos de uma *struct*, apenas com seu endereço, não sendo necessária uma cópia. Por isso, na prática, faz muito mais sentido passar-se o endereço de uma *struct* para uma função como parâmetro, ao invés de uma cópia, a qual é muito mais custosa, como visto anteriormente.</div></p>\n",
    "<p><div style=\"text-align: justify\">OBS: Há de se tomar cuidado com o acesso a *structs* por meio de ponteiros, já que estes permitem a alteração dos dados. Caso se queira garantir que os dados de uma *struct* passada por endereço para uma função não sejam modificados, pode-se usar a palavra reservada *const* **antes** do tipo do ponteiro.</div></p>\n",
    "\n",
    "```C\n",
    "// Nesse caso, o objeto apontado por p não poderá ser alterado\n",
    "extern void f(const Pessoa * p);\n",
    "```\n",
    "\n",
    "<p><div style=\"text-align: justify\">A solução do problema citado no tópico \"Declaração\" é utilizar um ponteiro para a estrutura em sua declaração, visto que o tamanho para alocar-se um ponteiro de tipo qualquer é fixo, portanto, o compilador não necessita de mais nada para definir o tamanho necessário de tal tipo, como se pode ver na declaração abaixo:</div></p>"
   ]
  },
  {
   "cell_type": "code",
   "execution_count": 76,
   "metadata": {
    "collapsed": true
   },
   "outputs": [],
   "source": [
    "typedef struct{\n",
    "    char* nome;\n",
    "    int idade;\n",
    "    struct Pessoa* parent;\n",
    "} Pessoa;\n",
    "\n",
    "int main(){ return 0;}"
   ]
  },
  {
   "cell_type": "markdown",
   "metadata": {
    "collapsed": true
   },
   "source": [
    "### Operador \"->\"\n",
    "Para acessar um atributo da *struct* apontado por um ponteiro, normalmente se recuperaria o objeto apontado por meio do operador de indireção e, só depois, utilizaria-se o operador \".\" para acessar o campo.\n",
    "\n",
    "```C\n",
    "Pessoa* p;\n",
    "// Atribui a idade da pessoa referenciada pelo ponteiro p à variàvel idadeAux\n",
    "int idadeAux = (*p).idade;\n",
    "```\n",
    "\n",
    "Essa sequência de passos pode resultar em erros de programação, visto que, pelo o operador \".\" ter precedência maior que o operador de indireção, se tentarmos acessar sem o uso de parênteses, obeteremos:"
   ]
  },
  {
   "cell_type": "code",
   "execution_count": 51,
   "metadata": {},
   "outputs": [
    {
     "name": "stderr",
     "output_type": "stream",
     "text": [
      "/Users/PedroFigueiredo/anaconda/lib/python3.6/site-packages/jupyter_c_kerneltt1z6pti/0.c:12:28: error: member reference type 'Pessoa *' is a pointer; did you mean to use '->'?\n",
      "    int idadePai = *pParent.idade;\n",
      "                    ~~~~~~~^\n",
      "                           ->\n",
      "/Users/PedroFigueiredo/anaconda/lib/python3.6/site-packages/jupyter_c_kerneltt1z6pti/0.c:12:20: error: indirection requires pointer operand ('int' invalid)\n",
      "    int idadePai = *pParent.idade;\n",
      "                   ^~~~~~~~~~~~~~\n",
      "2 errors generated.\n",
      "[C kernel] GCC exited with code 1, the executable will not be executed"
     ]
    }
   ],
   "source": [
    "typedef struct{\n",
    "    char* nome;\n",
    "    int idade;\n",
    "    struct Pessoa* parent;\n",
    "}Pessoa;\n",
    "\n",
    "int main(){ \n",
    "    Pessoa* pParent;\n",
    "    /* Como a precedência do operador \".\" é maior que o operador de indireção,\n",
    "    *  a instrução abaixo se torna equivalente a: int idadePai = *(pParent.idade);\n",
    "    */\n",
    "    int idadePai = *pParent.idade;\n",
    "    return 0;\n",
    "}"
   ]
  },
  {
   "cell_type": "markdown",
   "metadata": {},
   "source": [
    "Para diminuir o risco de erros de sintaxe, foi introduzido, à linguaguem C, o operador \"->\". Este é equivalente a usar o operador de indireção + operador \".\", na sequência correta, a qual foi apresentada anteriormente.\n",
    "```C\n",
    "Pessoa* p;\n",
    "// Atribui a idade da pessoa referenciada pelo ponteiro p à variàvel idadeAux\n",
    "int idadeAux = p->idade;\n",
    "```"
   ]
  },
  {
   "cell_type": "markdown",
   "metadata": {},
   "source": [
    "## Referências\n",
    "\n",
    "Foram usadas as seguintes fontes para montar o conteúdo dessa aula:\n",
    "* Linguagem C, 10ª Edição;\n",
    "    LTC — Livros Técnicos e Científicos Editora Ltda;\n",
    "    Uma editora integrante do GEN | Grupo Editorial Nacional;\n",
    "    Autor Luís Damas;\n",
    "    Ano 2007.\n",
    "* Algoritmos e programação em linguagem C 1ª edição;\n",
    "    Editora Saraiva;\n",
    "    Autor Renato Soffner;\n",
    "    Ano 2013.\n",
    "* http://www.cprogressivo.net/;\n",
    "    Acessado em: 12 de outubro de 2017, às 19:00h"
   ]
  },
  {
   "cell_type": "code",
   "execution_count": null,
   "metadata": {
    "collapsed": true
   },
   "outputs": [],
   "source": []
  }
 ],
 "metadata": {
  "kernelspec": {
   "display_name": "C",
   "language": "c",
   "name": "bash"
  },
  "language_info": {
   "file_extension": ".c",
   "mimetype": "text/plain",
   "name": "c"
  }
 },
 "nbformat": 4,
 "nbformat_minor": 2
}
